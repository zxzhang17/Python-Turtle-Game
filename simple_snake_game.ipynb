{
    "cells": [
        {
            "cell_type": "markdown",
            "metadata": {},
            "source": [
                "### \ud83d\udc0d Welcome to the Simple Snake Game! \ud83c\udfae\n",
                "In this game, you control a **snake** that moves around the screen, trying to eat food \ud83c\udf4e while avoiding crashing into itself!\n",
                "\n",
                "Let's build this game step by step! \ud83d\ude80"
            ]
        },
        {
            "cell_type": "code",
            "metadata": {},
            "source": [
                "import turtle\n",
                "import time\n",
                "import random"
            ]
        },
        {
            "cell_type": "markdown",
            "metadata": {},
            "source": [
                "## \ud83c\udfa8 Setting Up the Game Screen\n",
                "We create the game window where the snake will move.\n",
                "- The background color is **light green**.\n",
                "- The window size is **600 x 600 pixels**.\n",
                "- `tracer(0)` is used to **turn off animation** for smoother gameplay."
            ]
        },
        {
            "cell_type": "code",
            "metadata": {},
            "source": [
                "screen = turtle.Screen()\n",
                "screen.title(\"Simple Snake Game\")\n",
                "screen.bgcolor(\"lightgreen\")\n",
                "screen.setup(width=600, height=600)\n",
                "screen.tracer(0)  # Turn off animation for smoother gameplay"
            ]
        },
        {
            "cell_type": "markdown",
            "metadata": {},
            "source": [
                "## \ud83d\udc0d Creating the Snake Head\n",
                "The snake's **head** is a black square that starts in the middle of the screen."
            ]
        },
        {
            "cell_type": "code",
            "metadata": {},
            "source": [
                "head = turtle.Turtle()\n",
                "head.shape(\"square\")\n",
                "head.color(\"black\")\n",
                "head.penup()\n",
                "head.goto(0, 0)  # Start in the middle of the screen\n",
                "head.direction = \"stop\"  # Initially, the snake is not moving"
            ]
        },
        {
            "cell_type": "markdown",
            "metadata": {},
            "source": [
                "## \ud83c\udf4e Adding Food for the Snake\n",
                "The **food** is a red circle placed randomly on the screen."
            ]
        },
        {
            "cell_type": "code",
            "metadata": {},
            "source": [
                "food = turtle.Turtle()\n",
                "food.shape(\"circle\")\n",
                "food.color(\"red\")\n",
                "food.penup()\n",
                "food.goto(0, 100)  # Place food at a random starting position"
            ]
        },
        {
            "cell_type": "markdown",
            "metadata": {},
            "source": [
                "## \ud83c\udfae Controlling the Snake\n",
                "Use the **arrow keys** to move the snake in different directions."
            ]
        },
        {
            "cell_type": "code",
            "metadata": {},
            "source": [
                "def go_up():\n",
                "    if head.direction != \"down\":  # Prevent reversing direction\n",
                "        head.direction = \"up\"\n",
                "\n",
                "def go_down():\n",
                "    if head.direction != \"up\":\n",
                "        head.direction = \"down\"\n",
                "\n",
                "def go_left():\n",
                "    if head.direction != \"right\":\n",
                "        head.direction = \"left\"\n",
                "\n",
                "def go_right():\n",
                "    if head.direction != \"left\":\n",
                "        head.direction = \"right\"\n",
                "\n",
                "screen.listen()\n",
                "screen.onkeypress(go_up, \"Up\")\n",
                "screen.onkeypress(go_down, \"Down\")\n",
                "screen.onkeypress(go_left, \"Left\")\n",
                "screen.onkeypress(go_right, \"Right\")"
            ]
        },
        {
            "cell_type": "markdown",
            "metadata": {},
            "source": [
                "## \ud83c\udfc3 Moving the Snake\n",
                "The snake **moves forward** in the chosen direction."
            ]
        },
        {
            "cell_type": "code",
            "metadata": {},
            "source": [
                "def move():\n",
                "    if head.direction == \"up\":\n",
                "        head.sety(head.ycor() + 20)\n",
                "    if head.direction == \"down\":\n",
                "        head.sety(head.ycor() - 20)\n",
                "    if head.direction == \"left\":\n",
                "        head.setx(head.xcor() - 20)\n",
                "    if head.direction == \"right\":\n",
                "        head.setx(head.xcor() + 20)"
            ]
        },
        {
            "cell_type": "markdown",
            "metadata": {},
            "source": [
                "## \ud83c\udf89 Congratulations! \ud83c\udf8a\n",
                "You've built an **awesome Snake Game**! \ud83d\udc0d\ud83c\udfae\n",
                "\n",
                "### \ud83d\ude80 Next Steps:\n",
                "- Add a **score system** that tracks how many food items the snake eats! \ud83c\udfc6\n",
                "- Make the **snake grow longer** when it eats food! \ud83d\udc0d\u27a1\ufe0f\ud83d\udc0d\ud83d\udc0d\n",
                "- Add **background music** using the `pygame` library! \ud83c\udfb5\n",
                "\n",
                "Happy coding! \ud83d\ude80\ud83d\udc0d\ud83c\udfae"
            ]
        }
    ],
    "metadata": {},
    "nbformat": 4,
    "nbformat_minor": 5
}