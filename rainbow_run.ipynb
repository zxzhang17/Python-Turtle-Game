{
 "cells": [
  {
   "cell_type": "markdown",
   "metadata": {},
   "source": [
    "### 🌈 Welcome to Rainbow Runner! 🎮\n",
    "In this game, you'll guide a turtle 🐢 that leaves a colorful rainbow trail as it moves across the screen.\n",
    "Watch out for obstacles and stay within the boundaries! Let's dive in and explore how the game works."
   ]
  },
  {
   "cell_type": "code",
   "execution_count": null,
   "metadata": {},
   "outputs": [],
   "source": [
    "import turtle\n",
    "import random"
   ]
  },
  {
   "cell_type": "markdown",
   "metadata": {},
   "source": [
    "#### Screen Setup\n",
    "We create the game screen with a white background, a size of 600x600 pixels, and the title \"Rainbow Runner\"."
   ]
  },
  {
   "cell_type": "code",
   "execution_count": null,
   "metadata": {},
   "outputs": [],
   "source": [
    "screen = turtle.Screen()\n",
    "screen.bgcolor(\"white\")\n",
    "screen.setup(width=600, height=600)\n",
    "screen.title(\"Rainbow Runner\")"
   ]
  },
  {
   "cell_type": "markdown",
   "metadata": {},
   "source": [
    "#### Player Turtle Setup\n",
    "We create a player turtle that starts at the center of the screen and leaves a rainbow trail as it moves."
   ]
  },
  {
   "cell_type": "code",
   "execution_count": null,
   "metadata": {},
   "outputs": [],
   "source": [
    "player = turtle.Turtle()\n",
    "player.shape(\"turtle\")\n",
    "player.speed(0)\n",
    "player.penup()\n",
    "player.goto(0, 0)\n",
    "player.pendown()"
   ]
  },
  {
   "cell_type": "markdown",
   "metadata": {},
   "source": [
    "#### Rainbow Colors\n",
    "We define a list of colors that the player will randomly use for its trail."
   ]
  },
  {
   "cell_type": "code",
   "execution_count": null,
   "metadata": {},
   "outputs": [],
   "source": [
    "colors = [\"red\", \"orange\", \"yellow\", \"green\", \"blue\", \"indigo\", \"violet\"]"
   ]
  },
  {
   "cell_type": "markdown",
   "metadata": {},
   "source": [
    "#### Obstacle Setup\n",
    "We create 50 obstacles with random positions and colors. These obstacles make the game more challenging!"
   ]
  },
  {
   "cell_type": "code",
   "execution_count": null,
   "metadata": {},
   "outputs": [],
   "source": [
    "obstacles = []\n",
    "for _ in range(50):\n",
    "    obstacle = turtle.Turtle()\n",
    "    obstacle.shape(\"square\")\n",
    "    obstacle.color(random.choice(colors))\n",
    "    obstacle.penup()\n",
    "    obstacle.goto(random.randint(-250, 250), random.randint(-250, 250))\n",
    "    obstacles.append(obstacle)"
   ]
  },
  {
   "cell_type": "markdown",
   "metadata": {},
   "source": [
    "#### Random Direction Function\n",
    "This function randomly changes the player's direction, adding unpredictability to the game."
   ]
  },
  {
   "cell_type": "code",
   "execution_count": null,
   "metadata": {},
   "outputs": [],
   "source": [
    "def random_direction():\n",
    "    choice = random.choice([\"left\", \"right\", \"straight\", \"reverse\"])\n",
    "    if choice == \"left\":\n",
    "        player.left(90)\n",
    "    elif choice == \"right\":\n",
    "        player.right(90)\n",
    "    elif choice == \"reverse\":\n",
    "        player.left(180)"
   ]
  },
  {
   "cell_type": "markdown",
   "metadata": {},
   "source": [
    "#### Player Movement Function\n",
    "This function moves the player forward while checking for boundary collisions and obstacle interactions."
   ]
  },
  {
   "cell_type": "code",
   "execution_count": null,
   "metadata": {},
   "outputs": [],
   "source": [
    "def move():\n",
    "    player.color(random.choice(colors))\n",
    "    random_direction()\n",
    "    player.forward(20)\n",
    "\n",
    "    # Check boundaries\n",
    "    if player.xcor() > 290 or player.xcor() < -290 or player.ycor() > 290 or player.ycor() < -290:\n",
    "        player.penup()\n",
    "        player.goto(0, 0)\n",
    "        player.pendown()\n",
    "\n",
    "    # Check collision with obstacles\n",
    "    for obstacle in obstacles:\n",
    "        if player.distance(obstacle) < 20:\n",
    "            player.penup()\n",
    "            player.goto(0, 0)\n",
    "            player.pendown()"
   ]
  },
  {
   "cell_type": "markdown",
   "metadata": {},
   "source": [
    "#### Main Game Loop\n",
    "The game loop continuously moves the player while keeping the game running."
   ]
  },
  {
   "cell_type": "code",
   "execution_count": null,
   "metadata": {},
   "outputs": [],
   "source": [
    "while True:\n",
    "    move()"
   ]
  },
  {
   "cell_type": "markdown",
   "metadata": {},
   "source": [
    "#### Keeping the Window Open\n",
    "This line ensures the game window remains open until manually closed."
   ]
  },
  {
   "cell_type": "code",
   "execution_count": null,
   "metadata": {},
   "outputs": [],
   "source": [
    "turtle.done()"
   ]
  }
 ],
 "metadata": {
  "kernelspec": {
   "display_name": "Python 3",
   "language": "python",
   "name": "python3"
  },
  "language_info": {
   "codemirror_mode": {
    "name": "ipython",
    "version": 3
   },
   "file_extension": ".py",
   "mimetype": "text/x-python",
   "name": "python",
   "nbconvert_exporter": "python",
   "pygments_lexer": "ipython3",
   "version": "3.8.5"
  }
 },
 "nbformat": 4,
 "nbformat_minor": 5
}
