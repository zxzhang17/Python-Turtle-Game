{
 "cells": [
  {
   "cell_type": "markdown",
   "metadata": {},
   "source": [
    "### 🚗 Welcome to the Car Dodge Game! 🏎️💨\n",
    "In this game, you will control a **blue car** that needs to avoid obstacles on the road! 🛣️\n",
    "Can you survive and keep dodging the red cars for as long as possible? ⏳\n",
    "\n",
    "Let's build this game step by step! 🚀"
   ]
  },
  {
   "cell_type": "code",
   "metadata": {},
   "source": [
    "import turtle\n",
    "import random\n",
    "import time"
   ],
   "outputs": [],
   "execution_count": 1
  },
  {
   "cell_type": "markdown",
   "metadata": {},
   "source": [
    "## 🛣️ Setting Up the Game Screen\n",
    "First, we need to **create the game window** where the car will move.\n",
    "- The background color is **light gray** to look like a real road.\n",
    "- The window size is **800 x 600 pixels**.\n"
   ]
  },
  {
   "cell_type": "code",
   "metadata": {},
   "source": [
    "screen = turtle.Screen()\n",
    "screen.bgcolor(\"lightgray\")\n",
    "screen.title(\"Car Dodge Game\")\n",
    "screen.setup(width=800, height=600)"
   ],
   "outputs": [],
   "execution_count": 2
  },
  {
   "cell_type": "markdown",
   "metadata": {},
   "source": [
    "## 🛤️ Drawing the Road\n",
    "We will draw a **black road** in the middle of the screen.\n",
    "- The road is **500 pixels wide**.\n",
    "- It is drawn using a black-filled rectangle."
   ]
  },
  {
   "cell_type": "code",
   "metadata": {},
   "source": [
    "road = turtle.Turtle()\n",
    "road.speed(0)\n",
    "road.color(\"black\")\n",
    "road.penup()\n",
    "road.goto(-250, -300)\n",
    "road.pendown()\n",
    "road.begin_fill()\n",
    "for _ in range(2):\n",
    "    road.forward(500)\n",
    "    road.left(90)\n",
    "    road.forward(600)\n",
    "    road.left(90)\n",
    "road.end_fill()\n",
    "road.hideturtle()"
   ],
   "outputs": [],
   "execution_count": 3
  },
  {
   "cell_type": "markdown",
   "metadata": {},
   "source": [
    "## 🚙 Creating the Player’s Car\n",
    "Now, let's create the **blue car** that the player controls.\n",
    "- The car is **a stretched square shape**.\n",
    "- It starts at the **bottom of the road**.\n"
   ]
  },
  {
   "cell_type": "code",
   "metadata": {},
   "source": [
    "player = turtle.Turtle()\n",
    "player.shape(\"square\")\n",
    "player.color(\"blue\")\n",
    "player.shapesize(stretch_wid=1, stretch_len=2)\n",
    "player.penup()\n",
    "player.goto(0, -250)"
   ],
   "outputs": [],
   "execution_count": 4
  },
  {
   "cell_type": "markdown",
   "metadata": {},
   "source": [
    "## 🎲 In-Class Activity 1: Customize Your Car! 🚘\n",
    "**Objective:**\n",
    "- Change the **car color** to green, yellow, or purple.\n",
    "- Make the car **bigger or smaller** using `shapesize()`.\n",
    "\n",
    "**Task:**\n",
    "1️⃣ Change `player.color(\"blue\")` to another color.\n",
    "2️⃣ Modify `shapesize(stretch_wid=1, stretch_len=2)` to different sizes.\n",
    "3️⃣ Run the code and see your new car! 🎨"
   ]
  },
  {
   "cell_type": "markdown",
   "metadata": {},
   "source": [
    "## 🚧 Adding Obstacles\n",
    "The game will have **6 red cars** as obstacles moving down the road.\n",
    "- They start at random **positions**.\n",
    "- They **move downward** towards the player’s car."
   ]
  },
  {
   "cell_type": "code",
   "metadata": {},
   "source": [
    "obstacles = []\n",
    "for _ in range(6):\n",
    "    obstacle = turtle.Turtle()\n",
    "    obstacle.shape(\"square\")\n",
    "    obstacle.color(\"red\")\n",
    "    obstacle.shapesize(stretch_wid=1, stretch_len=2)\n",
    "    obstacle.penup()\n",
    "    obstacle.goto(random.randint(-200, 200), random.randint(100, 400))\n",
    "    obstacles.append(obstacle)"
   ],
   "outputs": [],
   "execution_count": 5
  },
  {
   "cell_type": "markdown",
   "metadata": {},
   "source": [
    "## ⌨️ Moving the Car Left and Right\n",
    "We need to allow the **player to control the car** with the arrow keys.\n",
    "- `Left Arrow` moves the car left.\n",
    "- `Right Arrow` moves the car right.\n",
    "- The car **stays inside the road boundaries**."
   ]
  },
  {
   "cell_type": "code",
   "metadata": {},
   "source": [
    "def move_left():\n",
    "    x = player.xcor()\n",
    "    x -= 20\n",
    "    if x < -230:\n",
    "        x = -230\n",
    "    player.setx(x)\n",
    "\n",
    "def move_right():\n",
    "    x = player.xcor()\n",
    "    x += 20\n",
    "    if x > 230:\n",
    "        x = 230\n",
    "    player.setx(x)\n",
    "\n",
    "screen.listen()\n",
    "screen.onkeypress(move_left, \"Left\")\n",
    "screen.onkeypress(move_right, \"Right\")"
   ],
   "outputs": [],
   "execution_count": 6
  },
  {
   "cell_type": "markdown",
   "metadata": {},
   "source": [
    "## 🏎️ Moving the Obstacles\n",
    "The red cars **move down** the screen and reappear at the top when they reach the bottom."
   ]
  },
  {
   "cell_type": "code",
   "metadata": {},
   "source": [
    "def move_obstacles():\n",
    "    for obstacle in obstacles:\n",
    "        obstacle.sety(obstacle.ycor() - random.randint(10, 20))\n",
    "        if obstacle.ycor() < -300:\n",
    "            obstacle.goto(random.randint(-200, 200), random.randint(300, 400))"
   ],
   "outputs": [],
   "execution_count": 7
  },
  {
   "cell_type": "markdown",
   "metadata": {},
   "source": [
    "## 🏁 Checking for Collisions\n",
    "If the player’s car **touches an obstacle**, the game ends!"
   ]
  },
  {
   "cell_type": "code",
   "metadata": {},
   "source": [
    "def check_collision():\n",
    "    for obstacle in obstacles:\n",
    "        if player.distance(obstacle) < 20:\n",
    "            return True\n",
    "    return False"
   ],
   "outputs": [],
   "execution_count": 8
  },
  {
   "cell_type": "markdown",
   "metadata": {},
   "source": [
    "## 🎯 In-Class Activity 2: Hard Mode! 🚀\n",
    "- Make obstacles **faster** by changing `random.randint(10, 20)`.\n",
    "- Increase the **number of obstacles** to 10!\n"
   ]
  },
  {
   "cell_type": "markdown",
   "metadata": {},
   "source": [
    "## 🎉 Game Over and Next Steps\n",
    "- Add a **score counter**.\n",
    "- Add **background music** using the `pygame` library.\n",
    "- Create **different levels** with increasing speed! 🎮"
   ]
  }
 ],
 "metadata": {},
 "nbformat": 4,
 "nbformat_minor": 5
}
