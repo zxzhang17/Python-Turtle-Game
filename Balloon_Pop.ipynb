{
    "cells": [
        {
            "cell_type": "markdown",
            "id": "4148774c",
            "metadata": {},
            "source": [
                "### \ud83c\udf88 Welcome to the Balloon Game! \ud83c\udf89\n",
                "In this game, colorful balloons \ud83c\udfa8\ud83c\udf88 rise up the screen, floating into the sky! \u2601\ufe0f\n",
                "But wait \u2013 if a balloon reaches the top \ud83c\udf1f, it magically disappears and reappears at the bottom with a surprise new color! \ud83c\udf08\u2728\n",
                "Let\u2019s dive in and see how this fun game works step by step! \ud83d\udd79\ufe0f\ud83d\udc40\n"
            ]
        },
        {
            "cell_type": "code",
            "execution_count": 1,
            "id": "60a0b646",
            "metadata": {},
            "outputs": [],
            "source": [
                "import turtle\n",
                "import random"
            ]
        },
        {
            "cell_type": "markdown",
            "id": "a011dc6a",
            "metadata": {},
            "source": [
                "#### Setting Up the Screen\n",
                "We set up the screen with a background color, size, and other properties to make the game look nice."
            ]
        },
        {
            "cell_type": "code",
            "execution_count": 2,
            "id": "0aae0770",
            "metadata": {},
            "outputs": [],
            "source": [
                "screen = turtle.Screen()\n",
                "screen.title(\"Balloon PoP\")\n",
                "screen.bgcolor(\"sky blue\")\n",
                "screen.setup(width=800, height=600)"
            ]
        },
        {
            "cell_type": "markdown",
            "id": "71600815",
            "metadata": {},
            "source": [
                "#### Balloon Colors\n",
                "We define a list of colors that balloons can randomly choose from."
            ]
        },
        {
            "cell_type": "code",
            "execution_count": 3,
            "id": "f52998f1",
            "metadata": {},
            "outputs": [],
            "source": [
                "colors = [\"red\", \"green\", \"blue\", \"yellow\", \"purple\", \"orange\"]"
            ]
        },
        {
            "cell_type": "markdown",
            "id": "activity1",
            "metadata": {},
            "source": [
                "## \ud83c\udfeb In-Class Activity 1: Create the Balloon \ud83c\udf88\n",
                "In this activity, we will create a **balloon object** using Python's Turtle module.\n",
                "\n",
                "### Objective:\n",
                "- Learn how to create and display balloons using Turtle.\n",
                "- Assign random colors to balloons.\n",
                "- Position them at random locations on the screen.\n",
                "\n",
                "Let's start by creating a function that generates balloons!"
            ]
        },
        {
            "cell_type": "code",
            "execution_count": 4,
            "id": "2c7a8294",
            "metadata": {},
            "outputs": [],
            "source": [
                "def create_balloon():\n",
                "    balloon = turtle.Turtle()\n",
                "    balloon.shape(\"circle\")\n",
                "    balloon.color(random.choice(colors))\n",
                "    balloon.penup()\n",
                "    balloon.speed(0)\n",
                "    balloon.goto(random.randint(-390, 390), -300)\n",
                "    balloons.append(balloon)"
            ]
        },
        {
            "cell_type": "markdown",
            "id": "cd308dc0",
            "metadata": {},
            "source": [
                "#### Creating Multiple Balloons\n",
                "We use a loop to create 50 balloons and add them to the list."
            ]
        },
        {
            "cell_type": "code",
            "execution_count": 6,
            "id": "b9514dc3",
            "metadata": {},
            "outputs": [],
            "source": [
                "for _ in range(50):\n",
                "    create_balloon()"
            ]
        },
        {
            "cell_type": "markdown",
            "id": "activity2",
            "metadata": {},
            "source": [
                "## \ud83c\udfeb In-Class Activity 2: Move the Balloon \ud83c\udf88\n",
                "Now that we've created balloons, let's make them move! \ud83d\ude80\n",
                "\n",
                "### Objective:\n",
                "- Move the balloons **upward** on the screen.\n",
                "- When a balloon reaches the top, reset it to the bottom with a new color.\n",
                "- Learn about **loops and conditionals** to keep the game running.\n",
                "\n",
                "Let's write a function to move the balloons and see them float!"
            ]
        },
        {
            "cell_type": "code",
            "execution_count": 7,
            "id": "d69756fd",
            "metadata": {},
            "outputs": [],
            "source": [
                "def move_balloons():\n",
                "    for balloon in balloons:\n",
                "        y = balloon.ycor()\n",
                "        y += random.randint(1, 100)\n",
                "        balloon.sety(y)\n",
                "\n",
                "        if y > 300:\n",
                "            balloon.hideturtle()\n",
                "            balloon.goto(random.randint(-390, 390), -300)\n",
                "            balloon.color(random.choice(colors))\n",
                "            balloon.showturtle()\n",
                "\n",
                "    screen.ontimer(move_balloons, 50)"
            ]
        },
        {
            "cell_type": "markdown",
            "id": "ba8858a8",
            "metadata": {},
            "source": [
                "#### Starting the Balloon Movement\n",
                "This starts the game by calling the function to move balloons repeatedly."
            ]
        },
        {
            "cell_type": "code",
            "execution_count": 8,
            "id": "cf14724c",
            "metadata": {},
            "outputs": [],
            "source": [
                "move_balloons()"
            ]
        },
        {
            "cell_type": "markdown",
            "id": "b1a8ed91",
            "metadata": {},
            "source": [
                "#### Keeping the Window Open\n",
                "This line ensures that the game window stays open until manually closed."
            ]
        },
        {
            "cell_type": "code",
            "execution_count": 9,
            "id": "9065b6dc",
            "metadata": {},
            "outputs": [],
            "source": [
                "turtle.done()"
            ]
        },
        {
            "cell_type": "markdown",
            "id": "suggestions",
            "metadata": {},
            "source": [
                "### Suggestions for Game Settings \ud83c\udfae\u2728\n",
                "1. **Change Balloon Speed**: Adjust the speed of balloons by modifying the random upward movement range (e.g., replace `random.randint(1, 100)` with `random.randint(5, 50)` for slower movement).\n",
                "2. **Add More Colors**: Include more fun colors by expanding the `colors` list, like \"pink\", \"cyan\", or \"gold\"! \ud83c\udf08\n",
                "3. **Resize Balloons**: Make balloons smaller or bigger using `balloon.shapesize(stretch_wid=2, stretch_len=2)` for size adjustments.\n",
                "4. **Add Background Music**: Use the `pygame` library to play cheerful music \ud83c\udfb5 while the balloons float!\n",
                "5. **Count Pops**: Track how many balloons have been reset and display the score using `turtle.write()` at the top of the screen. \ud83c\udfc6\n",
                "6. **Level Up**: Increase the difficulty by making balloons move faster as time progresses. Add a timer or level system! \u23f3\ud83d\ude80\n",
                "7. **Change Background**: Make the background change dynamically or use an image like clouds or fireworks for added fun! \ud83c\udf86\n",
                "8. **Interactive Controls**: Allow players to click on balloons to pop them for points using the `onclick()` function! \ud83c\udfaf\ud83d\udca5\n"
            ]
        }
    ],
    "metadata": {
        "kernelspec": {
            "display_name": "Python 3 (ipykernel)",
            "language": "python",
            "name": "python3"
        },
        "language_info": {
            "codemirror_mode": {
                "name": "ipython",
                "version": 3
            },
            "file_extension": ".py",
            "mimetype": "text/x-python",
            "name": "python",
            "nbconvert_exporter": "python",
            "pygments_lexer": "ipython3",
            "version": "3.12.3"
        }
    },
    "nbformat": 4,
    "nbformat_minor": 5
}